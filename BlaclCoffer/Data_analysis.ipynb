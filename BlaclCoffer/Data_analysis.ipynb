{
 "cells": [
  {
   "cell_type": "code",
   "execution_count": 1,
   "id": "30af2bf6",
   "metadata": {},
   "outputs": [],
   "source": [
    "import string\n",
    "import re\n",
    "import pandas as pd\n",
    "\n",
    "# Read input data\n",
    "input_df = pd.read_excel('Input.xlsx')\n",
    "stop_words = open('Stop_words.txt', encoding='utf-8').read().split()\n",
    "\n",
    "# Initialize output DataFrame\n",
    "output_df = pd.DataFrame(columns=[\n",
    "    'URL_ID',\n",
    "    'URL',\n",
    "    'POSITIVE SCORE',\n",
    "    'NEGATIVE SCORE',\n",
    "    'POLARITY SCORE',\n",
    "    'SUBJECTIVITY SCORE',\n",
    "    'AVG SENTENCE LENGTH',\n",
    "    'PERCENTAGE OF COMPLEX WORDS',\n",
    "    'FOG INDEX',\n",
    "    'AVG NUMBER OF WORDS PER SENTENCE',\n",
    "    'COMPLEX WORD COUNT',\n",
    "    'WORD COUNT',\n",
    "    'SYLLABLE PER WORD',\n",
    "    'PERSONAL PRONOUNS',\n",
    "    'AVG WORD LENGTH'\n",
    "])\n"
   ]
  },
  {
   "cell_type": "code",
   "execution_count": 2,
   "id": "ccd54f3e",
   "metadata": {},
   "outputs": [],
   "source": [
    "def process_text(file_path, stop_words):\n",
    "    text = open(file_path, encoding='utf-8').read()\n",
    "    lower_case = text.lower()\n",
    "    cleaned_text = lower_case.translate(str.maketrans('', '', string.punctuation))\n",
    "    tokenized_words = cleaned_text.split()\n",
    "\n",
    "    final_words = [word for word in tokenized_words if word not in stop_words]\n",
    "    \n",
    "    return final_words\n"
   ]
  },
  {
   "cell_type": "code",
   "execution_count": 3,
   "id": "8a3bfab8",
   "metadata": {},
   "outputs": [],
   "source": [
    "def neg_pos(file_path, final_words):\n",
    "    positive_score = 0\n",
    "    negative_score = 0\n",
    "\n",
    "    with open('positive-words.txt', 'r') as file:\n",
    "        for line in file:\n",
    "            clear_line = line.replace('\\n', '').replace(',', '').replace(\"'\", '').strip()\n",
    "            if clear_line in final_words:\n",
    "                positive_score += 1\n",
    "\n",
    "    with open('negative-words.txt', 'r') as file:\n",
    "        for line in file:\n",
    "            clear_line = line.replace('\\n', '').replace(',', '').replace(\"'\", '').strip()\n",
    "            if clear_line in final_words:\n",
    "                negative_score += 1\n",
    "\n",
    "    positive_score += 0.000001\n",
    "    negative_score += 0.000001\n",
    "\n",
    "    polarity_score = (positive_score - negative_score) / (positive_score + negative_score)\n",
    "    subjectivity_score = (positive_score + negative_score) / (len(final_words) + 0.000001)\n",
    "\n",
    "    print(\"Positive Score:\", positive_score)\n",
    "    print(\"Negative Score:\", negative_score)\n",
    "    print(\"Polarity Score:\", polarity_score)\n",
    "    print(\"Subjectivity Score:\", subjectivity_score)\n",
    "    \n",
    "    return positive_score, negative_score, polarity_score, subjectivity_score\n"
   ]
  },
  {
   "cell_type": "code",
   "execution_count": 4,
   "id": "e1688982",
   "metadata": {},
   "outputs": [],
   "source": [
    "def count_syllables(word):\n",
    "    word = word.lower()\n",
    "    if word.endswith(('es', 'ed')) and len(word) > 2:\n",
    "        return 1\n",
    "    count = 0\n",
    "    vowels = \"aeiouy\"\n",
    "    if word[0] in vowels:\n",
    "        count += 1\n",
    "    for index in range(1, len(word)):\n",
    "        if word[index] in vowels and word[index - 1] not in vowels:\n",
    "            count += 1\n",
    "    if word.endswith('e') and not word.endswith('le'):\n",
    "        count -= 1\n",
    "    if count == 0:\n",
    "        count = 1\n",
    "    return count\n"
   ]
  },
  {
   "cell_type": "code",
   "execution_count": 5,
   "id": "e19181ee",
   "metadata": {},
   "outputs": [],
   "source": [
    "def calculate_fog_index(text):\n",
    "    sentences = re.split(r'[.!?]', text)\n",
    "    num_sentences = len(sentences)\n",
    "\n",
    "    words = re.findall(r'\\b\\w+\\b', text)\n",
    "    num_words = len(words)\n",
    "    num_complex_words = 0\n",
    "    num_syllables = 0\n",
    "    personal_pronouns = ['i', 'me', 'my', 'mine', 'myself', 'you', 'your', 'yours', 'yourself', 'he', 'him', 'his', 'himself', 'she', 'her', 'hers', 'herself', 'it', 'its', 'itself', 'we', 'us', 'our', 'ours', 'ourselves', 'you', 'your', 'yours', 'yourselves', 'they', 'them', 'their', 'theirs', 'themselves']\n",
    "\n",
    "    for word in words:\n",
    "        syllables = count_syllables(word)\n",
    "        num_syllables += syllables\n",
    "        if syllables > 2:\n",
    "            num_complex_words += 1\n",
    "\n",
    "    # Calculate Average Sentence Length\n",
    "    average_sentence_length = num_words / num_sentences\n",
    "    \n",
    "    # Calculate Percentage of Complex Words\n",
    "    percentage_complex_words = (num_complex_words / num_words) * 100\n",
    "    \n",
    "    # Calculate Fog Index\n",
    "    fog_index = 0.4 * (average_sentence_length + percentage_complex_words)\n",
    "    \n",
    "    # Calculate Average Number of Words per Sentence\n",
    "    avg_words_per_sentence = num_words / num_sentences\n",
    "    \n",
    "    # Calculate Average Syllables per Word\n",
    "    avg_syllables_per_word = num_syllables / num_words\n",
    "    \n",
    "    # Calculate Personal Pronouns Count\n",
    "    pronoun_count = sum(1 for word in words if word.lower() in personal_pronouns)\n",
    "    \n",
    "    # Calculate Average Word Length\n",
    "    avg_word_length = sum(len(word) for word in words) / num_words\n",
    "    \n",
    "    return (\n",
    "        average_sentence_length,\n",
    "        percentage_complex_words,\n",
    "        fog_index,\n",
    "        avg_words_per_sentence,\n",
    "        num_complex_words,\n",
    "        num_words,\n",
    "        avg_syllables_per_word,\n",
    "        pronoun_count,\n",
    "        avg_word_length\n",
    "    )\n"
   ]
  },
  {
   "cell_type": "code",
   "execution_count": 6,
   "id": "1e5c80fb",
   "metadata": {},
   "outputs": [
    {
     "name": "stdout",
     "output_type": "stream",
     "text": [
      "Results for article 1\n",
      "Positive Score: 19.000001\n",
      "Negative Score: 5.000001\n",
      "Polarity Score: 0.5833332847222262\n",
      "Subjectivity Score: 0.041884820171230686\n"
     ]
    },
    {
     "name": "stderr",
     "output_type": "stream",
     "text": [
      "C:\\Users\\dell\\AppData\\Local\\Temp\\ipykernel_1976\\2233029045.py:29: FutureWarning: The frame.append method is deprecated and will be removed from pandas in a future version. Use pandas.concat instead.\n",
      "  output_df = output_df.append({\n"
     ]
    },
    {
     "name": "stdout",
     "output_type": "stream",
     "text": [
      "Results for article 2\n",
      "Positive Score: 41.000001\n",
      "Negative Score: 24.000001\n",
      "Polarity Score: 0.2615384534911245\n",
      "Subjectivity Score: 0.08054523162262052\n"
     ]
    },
    {
     "name": "stderr",
     "output_type": "stream",
     "text": [
      "C:\\Users\\dell\\AppData\\Local\\Temp\\ipykernel_1976\\2233029045.py:29: FutureWarning: The frame.append method is deprecated and will be removed from pandas in a future version. Use pandas.concat instead.\n",
      "  output_df = output_df.append({\n"
     ]
    },
    {
     "name": "stdout",
     "output_type": "stream",
     "text": [
      "Results for article 3\n",
      "Positive Score: 28.000001\n",
      "Negative Score: 17.000001\n",
      "Polarity Score: 0.2444444335802474\n",
      "Subjectivity Score: 0.07086614477028953\n"
     ]
    },
    {
     "name": "stderr",
     "output_type": "stream",
     "text": [
      "C:\\Users\\dell\\AppData\\Local\\Temp\\ipykernel_1976\\2233029045.py:29: FutureWarning: The frame.append method is deprecated and will be removed from pandas in a future version. Use pandas.concat instead.\n",
      "  output_df = output_df.append({\n"
     ]
    },
    {
     "name": "stdout",
     "output_type": "stream",
     "text": [
      "Results for article 4\n",
      "Positive Score: 29.000001\n",
      "Negative Score: 62.000001\n",
      "Polarity Score: -0.3626373546673109\n",
      "Subjectivity Score: 0.14583333630475426\n"
     ]
    },
    {
     "name": "stderr",
     "output_type": "stream",
     "text": [
      "C:\\Users\\dell\\AppData\\Local\\Temp\\ipykernel_1976\\2233029045.py:29: FutureWarning: The frame.append method is deprecated and will be removed from pandas in a future version. Use pandas.concat instead.\n",
      "  output_df = output_df.append({\n"
     ]
    },
    {
     "name": "stdout",
     "output_type": "stream",
     "text": [
      "Results for article 5\n",
      "Positive Score: 19.000001\n",
      "Negative Score: 8.000001\n",
      "Polarity Score: 0.4074073772290832\n",
      "Subjectivity Score: 0.07086614679562692\n"
     ]
    },
    {
     "name": "stderr",
     "output_type": "stream",
     "text": [
      "C:\\Users\\dell\\AppData\\Local\\Temp\\ipykernel_1976\\2233029045.py:29: FutureWarning: The frame.append method is deprecated and will be removed from pandas in a future version. Use pandas.concat instead.\n",
      "  output_df = output_df.append({\n"
     ]
    },
    {
     "name": "stdout",
     "output_type": "stream",
     "text": [
      "Results for article 6\n",
      "Positive Score: 61.000001\n",
      "Negative Score: 23.000001\n",
      "Polarity Score: 0.4523809416099776\n",
      "Subjectivity Score: 0.0764331227693966\n"
     ]
    },
    {
     "name": "stderr",
     "output_type": "stream",
     "text": [
      "C:\\Users\\dell\\AppData\\Local\\Temp\\ipykernel_1976\\2233029045.py:29: FutureWarning: The frame.append method is deprecated and will be removed from pandas in a future version. Use pandas.concat instead.\n",
      "  output_df = output_df.append({\n"
     ]
    },
    {
     "name": "stdout",
     "output_type": "stream",
     "text": [
      "Results for article 7\n",
      "Positive Score: 27.000001\n",
      "Negative Score: 36.000001\n",
      "Polarity Score: -0.14285713832199556\n",
      "Subjectivity Score: 0.08873239705812337\n"
     ]
    },
    {
     "name": "stderr",
     "output_type": "stream",
     "text": [
      "C:\\Users\\dell\\AppData\\Local\\Temp\\ipykernel_1976\\2233029045.py:29: FutureWarning: The frame.append method is deprecated and will be removed from pandas in a future version. Use pandas.concat instead.\n",
      "  output_df = output_df.append({\n"
     ]
    },
    {
     "name": "stdout",
     "output_type": "stream",
     "text": [
      "Results for article 8\n",
      "Positive Score: 22.000001\n",
      "Negative Score: 8.000001\n",
      "Polarity Score: 0.46666663555555765\n",
      "Subjectivity Score: 0.06048387487805671\n"
     ]
    },
    {
     "name": "stderr",
     "output_type": "stream",
     "text": [
      "C:\\Users\\dell\\AppData\\Local\\Temp\\ipykernel_1976\\2233029045.py:29: FutureWarning: The frame.append method is deprecated and will be removed from pandas in a future version. Use pandas.concat instead.\n",
      "  output_df = output_df.append({\n"
     ]
    },
    {
     "name": "stdout",
     "output_type": "stream",
     "text": [
      "Results for article 9\n",
      "Positive Score: 24.000001\n",
      "Negative Score: 38.000001\n",
      "Polarity Score: -0.22580644432882432\n",
      "Subjectivity Score: 0.10147299819726185\n"
     ]
    },
    {
     "name": "stderr",
     "output_type": "stream",
     "text": [
      "C:\\Users\\dell\\AppData\\Local\\Temp\\ipykernel_1976\\2233029045.py:29: FutureWarning: The frame.append method is deprecated and will be removed from pandas in a future version. Use pandas.concat instead.\n",
      "  output_df = output_df.append({\n"
     ]
    },
    {
     "name": "stdout",
     "output_type": "stream",
     "text": [
      "Results for article 10\n",
      "Positive Score: 41.000001\n",
      "Negative Score: 62.000001\n",
      "Polarity Score: -0.20388349118672833\n",
      "Subjectivity Score: 0.05780022555678999\n"
     ]
    },
    {
     "name": "stderr",
     "output_type": "stream",
     "text": [
      "C:\\Users\\dell\\AppData\\Local\\Temp\\ipykernel_1976\\2233029045.py:29: FutureWarning: The frame.append method is deprecated and will be removed from pandas in a future version. Use pandas.concat instead.\n",
      "  output_df = output_df.append({\n"
     ]
    },
    {
     "name": "stdout",
     "output_type": "stream",
     "text": [
      "Results for article 11\n",
      "Positive Score: 44.000001\n",
      "Negative Score: 16.000001\n",
      "Polarity Score: 0.4666666511111116\n",
      "Subjectivity Score: 0.07263922751496461\n"
     ]
    },
    {
     "name": "stderr",
     "output_type": "stream",
     "text": [
      "C:\\Users\\dell\\AppData\\Local\\Temp\\ipykernel_1976\\2233029045.py:29: FutureWarning: The frame.append method is deprecated and will be removed from pandas in a future version. Use pandas.concat instead.\n",
      "  output_df = output_df.append({\n"
     ]
    },
    {
     "name": "stdout",
     "output_type": "stream",
     "text": [
      "Results for article 12\n",
      "Positive Score: 33.000001\n",
      "Negative Score: 17.000001\n",
      "Polarity Score: 0.31999998720000045\n",
      "Subjectivity Score: 0.05793742982857771\n"
     ]
    },
    {
     "name": "stderr",
     "output_type": "stream",
     "text": [
      "C:\\Users\\dell\\AppData\\Local\\Temp\\ipykernel_1976\\2233029045.py:29: FutureWarning: The frame.append method is deprecated and will be removed from pandas in a future version. Use pandas.concat instead.\n",
      "  output_df = output_df.append({\n",
      "C:\\Users\\dell\\AppData\\Local\\Temp\\ipykernel_1976\\2233029045.py:29: FutureWarning: The frame.append method is deprecated and will be removed from pandas in a future version. Use pandas.concat instead.\n",
      "  output_df = output_df.append({\n"
     ]
    },
    {
     "name": "stdout",
     "output_type": "stream",
     "text": [
      "Results for article 13\n",
      "Positive Score: 19.000001\n",
      "Negative Score: 11.000001\n",
      "Polarity Score: 0.26666664888889013\n",
      "Subjectivity Score: 0.1003344545139316\n",
      "Results for article 14\n",
      "Positive Score: 1e-06\n",
      "Negative Score: 1e-06\n",
      "Polarity Score: 0.0\n",
      "Subjectivity Score: 1.818181652892577e-07\n"
     ]
    },
    {
     "name": "stderr",
     "output_type": "stream",
     "text": [
      "C:\\Users\\dell\\AppData\\Local\\Temp\\ipykernel_1976\\2233029045.py:29: FutureWarning: The frame.append method is deprecated and will be removed from pandas in a future version. Use pandas.concat instead.\n",
      "  output_df = output_df.append({\n"
     ]
    },
    {
     "name": "stdout",
     "output_type": "stream",
     "text": [
      "Results for article 15\n",
      "Positive Score: 29.000001\n",
      "Negative Score: 25.000001\n",
      "Polarity Score: 0.07407407133058995\n",
      "Subjectivity Score: 0.08071749165812034\n"
     ]
    },
    {
     "name": "stderr",
     "output_type": "stream",
     "text": [
      "C:\\Users\\dell\\AppData\\Local\\Temp\\ipykernel_1976\\2233029045.py:29: FutureWarning: The frame.append method is deprecated and will be removed from pandas in a future version. Use pandas.concat instead.\n",
      "  output_df = output_df.append({\n"
     ]
    },
    {
     "name": "stdout",
     "output_type": "stream",
     "text": [
      "Results for article 16\n",
      "Positive Score: 29.000001\n",
      "Negative Score: 25.000001\n",
      "Polarity Score: 0.07407407133058995\n",
      "Subjectivity Score: 0.08071749165812034\n"
     ]
    },
    {
     "name": "stderr",
     "output_type": "stream",
     "text": [
      "C:\\Users\\dell\\AppData\\Local\\Temp\\ipykernel_1976\\2233029045.py:29: FutureWarning: The frame.append method is deprecated and will be removed from pandas in a future version. Use pandas.concat instead.\n",
      "  output_df = output_df.append({\n"
     ]
    },
    {
     "name": "stdout",
     "output_type": "stream",
     "text": [
      "Results for article 17\n",
      "Positive Score: 29.000001\n",
      "Negative Score: 11.000001\n",
      "Polarity Score: 0.4499999775000011\n",
      "Subjectivity Score: 0.06389776667108983\n"
     ]
    },
    {
     "name": "stderr",
     "output_type": "stream",
     "text": [
      "C:\\Users\\dell\\AppData\\Local\\Temp\\ipykernel_1976\\2233029045.py:29: FutureWarning: The frame.append method is deprecated and will be removed from pandas in a future version. Use pandas.concat instead.\n",
      "  output_df = output_df.append({\n"
     ]
    },
    {
     "name": "stdout",
     "output_type": "stream",
     "text": [
      "Results for article 18\n",
      "Positive Score: 25.000001\n",
      "Negative Score: 9.000001\n",
      "Polarity Score: 0.47058820761245834\n",
      "Subjectivity Score: 0.05862069300237812\n"
     ]
    },
    {
     "name": "stderr",
     "output_type": "stream",
     "text": [
      "C:\\Users\\dell\\AppData\\Local\\Temp\\ipykernel_1976\\2233029045.py:29: FutureWarning: The frame.append method is deprecated and will be removed from pandas in a future version. Use pandas.concat instead.\n",
      "  output_df = output_df.append({\n"
     ]
    },
    {
     "name": "stdout",
     "output_type": "stream",
     "text": [
      "Results for article 19\n",
      "Positive Score: 45.000001\n",
      "Negative Score: 6.000001\n",
      "Polarity Score: 0.7647058523644764\n",
      "Subjectivity Score: 0.05815279582878814\n",
      "Results for article 20\n",
      "Positive Score: 1e-06\n",
      "Negative Score: 1e-06\n",
      "Polarity Score: 0.0\n",
      "Subjectivity Score: 2.499999687500039e-07\n"
     ]
    },
    {
     "name": "stderr",
     "output_type": "stream",
     "text": [
      "C:\\Users\\dell\\AppData\\Local\\Temp\\ipykernel_1976\\2233029045.py:29: FutureWarning: The frame.append method is deprecated and will be removed from pandas in a future version. Use pandas.concat instead.\n",
      "  output_df = output_df.append({\n",
      "C:\\Users\\dell\\AppData\\Local\\Temp\\ipykernel_1976\\2233029045.py:29: FutureWarning: The frame.append method is deprecated and will be removed from pandas in a future version. Use pandas.concat instead.\n",
      "  output_df = output_df.append({\n"
     ]
    },
    {
     "name": "stdout",
     "output_type": "stream",
     "text": [
      "Results for article 21\n",
      "Positive Score: 19.000001\n",
      "Negative Score: 34.000001\n",
      "Polarity Score: -0.2830188572445714\n",
      "Subjectivity Score: 0.09796673179673432\n",
      "Results for article 22\n"
     ]
    },
    {
     "name": "stderr",
     "output_type": "stream",
     "text": [
      "C:\\Users\\dell\\AppData\\Local\\Temp\\ipykernel_1976\\2233029045.py:29: FutureWarning: The frame.append method is deprecated and will be removed from pandas in a future version. Use pandas.concat instead.\n",
      "  output_df = output_df.append({\n",
      "C:\\Users\\dell\\AppData\\Local\\Temp\\ipykernel_1976\\2233029045.py:29: FutureWarning: The frame.append method is deprecated and will be removed from pandas in a future version. Use pandas.concat instead.\n",
      "  output_df = output_df.append({\n"
     ]
    },
    {
     "name": "stdout",
     "output_type": "stream",
     "text": [
      "Positive Score: 13.000001\n",
      "Negative Score: 8.000001\n",
      "Polarity Score: 0.23809521541950332\n",
      "Subjectivity Score: 0.11170213770371203\n",
      "Results for article 23\n",
      "Positive Score: 23.000001\n",
      "Negative Score: 15.000001\n",
      "Polarity Score: 0.21052630470914188\n",
      "Subjectivity Score: 0.055152397597746886\n"
     ]
    },
    {
     "name": "stderr",
     "output_type": "stream",
     "text": [
      "C:\\Users\\dell\\AppData\\Local\\Temp\\ipykernel_1976\\2233029045.py:29: FutureWarning: The frame.append method is deprecated and will be removed from pandas in a future version. Use pandas.concat instead.\n",
      "  output_df = output_df.append({\n",
      "C:\\Users\\dell\\AppData\\Local\\Temp\\ipykernel_1976\\2233029045.py:29: FutureWarning: The frame.append method is deprecated and will be removed from pandas in a future version. Use pandas.concat instead.\n",
      "  output_df = output_df.append({\n"
     ]
    },
    {
     "name": "stdout",
     "output_type": "stream",
     "text": [
      "Results for article 24\n",
      "Positive Score: 20.000001\n",
      "Negative Score: 3.000001\n",
      "Polarity Score: 0.7391303705104025\n",
      "Subjectivity Score: 0.07443366318953508\n",
      "Results for article 25\n",
      "Positive Score: 15.000001\n",
      "Negative Score: 11.000001\n",
      "Polarity Score: 0.15384614201183525\n",
      "Subjectivity Score: 0.04980843285477311\n"
     ]
    },
    {
     "name": "stderr",
     "output_type": "stream",
     "text": [
      "C:\\Users\\dell\\AppData\\Local\\Temp\\ipykernel_1976\\2233029045.py:29: FutureWarning: The frame.append method is deprecated and will be removed from pandas in a future version. Use pandas.concat instead.\n",
      "  output_df = output_df.append({\n"
     ]
    },
    {
     "name": "stdout",
     "output_type": "stream",
     "text": [
      "Results for article 26\n",
      "Positive Score: 22.000001\n",
      "Negative Score: 14.000001\n",
      "Polarity Score: 0.22222220987654392\n",
      "Subjectivity Score: 0.07228916049741133\n"
     ]
    },
    {
     "name": "stderr",
     "output_type": "stream",
     "text": [
      "C:\\Users\\dell\\AppData\\Local\\Temp\\ipykernel_1976\\2233029045.py:29: FutureWarning: The frame.append method is deprecated and will be removed from pandas in a future version. Use pandas.concat instead.\n",
      "  output_df = output_df.append({\n"
     ]
    },
    {
     "name": "stdout",
     "output_type": "stream",
     "text": [
      "Results for article 27\n",
      "Positive Score: 21.000001\n",
      "Negative Score: 17.000001\n",
      "Polarity Score: 0.10526315235457093\n",
      "Subjectivity Score: 0.06312292680544365\n"
     ]
    },
    {
     "name": "stderr",
     "output_type": "stream",
     "text": [
      "C:\\Users\\dell\\AppData\\Local\\Temp\\ipykernel_1976\\2233029045.py:29: FutureWarning: The frame.append method is deprecated and will be removed from pandas in a future version. Use pandas.concat instead.\n",
      "  output_df = output_df.append({\n"
     ]
    },
    {
     "name": "stdout",
     "output_type": "stream",
     "text": [
      "Results for article 28\n",
      "Positive Score: 20.000001\n",
      "Negative Score: 21.000001\n",
      "Polarity Score: -0.024390242712671085\n",
      "Subjectivity Score: 0.0715532319868181\n",
      "Results for article 29\n",
      "Positive Score: 2.000001\n",
      "Negative Score: 1e-06\n",
      "Polarity Score: 0.9999990000009998\n",
      "Subjectivity Score: 0.20000017999998204\n"
     ]
    },
    {
     "name": "stderr",
     "output_type": "stream",
     "text": [
      "C:\\Users\\dell\\AppData\\Local\\Temp\\ipykernel_1976\\2233029045.py:29: FutureWarning: The frame.append method is deprecated and will be removed from pandas in a future version. Use pandas.concat instead.\n",
      "  output_df = output_df.append({\n",
      "C:\\Users\\dell\\AppData\\Local\\Temp\\ipykernel_1976\\2233029045.py:29: FutureWarning: The frame.append method is deprecated and will be removed from pandas in a future version. Use pandas.concat instead.\n",
      "  output_df = output_df.append({\n"
     ]
    },
    {
     "name": "stdout",
     "output_type": "stream",
     "text": [
      "Results for article 30\n",
      "Positive Score: 38.000001\n",
      "Negative Score: 28.000001\n",
      "Polarity Score: 0.15151514692378337\n",
      "Subjectivity Score: 0.10377358788714844\n"
     ]
    },
    {
     "name": "stderr",
     "output_type": "stream",
     "text": [
      "C:\\Users\\dell\\AppData\\Local\\Temp\\ipykernel_1976\\2233029045.py:29: FutureWarning: The frame.append method is deprecated and will be removed from pandas in a future version. Use pandas.concat instead.\n",
      "  output_df = output_df.append({\n"
     ]
    },
    {
     "name": "stdout",
     "output_type": "stream",
     "text": [
      "Results for article 31\n",
      "Positive Score: 48.000001\n",
      "Negative Score: 25.000001\n",
      "Polarity Score: 0.31506848451867164\n",
      "Subjectivity Score: 0.08257918768939006\n"
     ]
    },
    {
     "name": "stderr",
     "output_type": "stream",
     "text": [
      "C:\\Users\\dell\\AppData\\Local\\Temp\\ipykernel_1976\\2233029045.py:29: FutureWarning: The frame.append method is deprecated and will be removed from pandas in a future version. Use pandas.concat instead.\n",
      "  output_df = output_df.append({\n"
     ]
    },
    {
     "name": "stdout",
     "output_type": "stream",
     "text": [
      "Results for article 32\n",
      "Positive Score: 36.000001\n",
      "Negative Score: 22.000001\n",
      "Polarity Score: 0.24137930202140334\n",
      "Subjectivity Score: 0.07859078851139459\n"
     ]
    },
    {
     "name": "stderr",
     "output_type": "stream",
     "text": [
      "C:\\Users\\dell\\AppData\\Local\\Temp\\ipykernel_1976\\2233029045.py:29: FutureWarning: The frame.append method is deprecated and will be removed from pandas in a future version. Use pandas.concat instead.\n",
      "  output_df = output_df.append({\n"
     ]
    },
    {
     "name": "stdout",
     "output_type": "stream",
     "text": [
      "Results for article 33\n",
      "Positive Score: 34.000001\n",
      "Negative Score: 23.000001\n",
      "Polarity Score: 0.19298244936903683\n",
      "Subjectivity Score: 0.06690141071959928\n"
     ]
    },
    {
     "name": "stderr",
     "output_type": "stream",
     "text": [
      "C:\\Users\\dell\\AppData\\Local\\Temp\\ipykernel_1976\\2233029045.py:29: FutureWarning: The frame.append method is deprecated and will be removed from pandas in a future version. Use pandas.concat instead.\n",
      "  output_df = output_df.append({\n"
     ]
    },
    {
     "name": "stdout",
     "output_type": "stream",
     "text": [
      "Results for article 34\n",
      "Positive Score: 31.000001\n",
      "Negative Score: 21.000001\n",
      "Polarity Score: 0.1923076849112429\n",
      "Subjectivity Score: 0.08538588163319231\n"
     ]
    },
    {
     "name": "stderr",
     "output_type": "stream",
     "text": [
      "C:\\Users\\dell\\AppData\\Local\\Temp\\ipykernel_1976\\2233029045.py:29: FutureWarning: The frame.append method is deprecated and will be removed from pandas in a future version. Use pandas.concat instead.\n",
      "  output_df = output_df.append({\n"
     ]
    },
    {
     "name": "stdout",
     "output_type": "stream",
     "text": [
      "Results for article 35\n",
      "Positive Score: 18.000001\n",
      "Negative Score: 10.000001\n",
      "Polarity Score: 0.2857142653061239\n",
      "Subjectivity Score: 0.07671233403640457\n",
      "Results for article 36\n",
      "Positive Score: 1e-06\n",
      "Negative Score: 1e-06\n",
      "Polarity Score: 0.0\n",
      "Subjectivity Score: 2.85714244897965e-07\n"
     ]
    },
    {
     "name": "stderr",
     "output_type": "stream",
     "text": [
      "C:\\Users\\dell\\AppData\\Local\\Temp\\ipykernel_1976\\2233029045.py:29: FutureWarning: The frame.append method is deprecated and will be removed from pandas in a future version. Use pandas.concat instead.\n",
      "  output_df = output_df.append({\n",
      "C:\\Users\\dell\\AppData\\Local\\Temp\\ipykernel_1976\\2233029045.py:29: FutureWarning: The frame.append method is deprecated and will be removed from pandas in a future version. Use pandas.concat instead.\n",
      "  output_df = output_df.append({\n"
     ]
    },
    {
     "name": "stdout",
     "output_type": "stream",
     "text": [
      "Results for article 37\n",
      "Positive Score: 23.000001\n",
      "Negative Score: 13.000001\n",
      "Polarity Score: 0.2777777623456799\n",
      "Subjectivity Score: 0.09944751906229968\n"
     ]
    },
    {
     "name": "stderr",
     "output_type": "stream",
     "text": [
      "C:\\Users\\dell\\AppData\\Local\\Temp\\ipykernel_1976\\2233029045.py:29: FutureWarning: The frame.append method is deprecated and will be removed from pandas in a future version. Use pandas.concat instead.\n",
      "  output_df = output_df.append({\n"
     ]
    },
    {
     "name": "stdout",
     "output_type": "stream",
     "text": [
      "Results for article 38\n",
      "Positive Score: 44.000001\n",
      "Negative Score: 31.000001\n",
      "Polarity Score: 0.1733333287111112\n",
      "Subjectivity Score: 0.07352941365340253\n"
     ]
    },
    {
     "name": "stderr",
     "output_type": "stream",
     "text": [
      "C:\\Users\\dell\\AppData\\Local\\Temp\\ipykernel_1976\\2233029045.py:29: FutureWarning: The frame.append method is deprecated and will be removed from pandas in a future version. Use pandas.concat instead.\n",
      "  output_df = output_df.append({\n"
     ]
    },
    {
     "name": "stdout",
     "output_type": "stream",
     "text": [
      "Results for article 39\n",
      "Positive Score: 32.000001\n",
      "Negative Score: 37.000001\n",
      "Polarity Score: -0.07246376601554302\n",
      "Subjectivity Score: 0.06577693225378747\n"
     ]
    },
    {
     "name": "stderr",
     "output_type": "stream",
     "text": [
      "C:\\Users\\dell\\AppData\\Local\\Temp\\ipykernel_1976\\2233029045.py:29: FutureWarning: The frame.append method is deprecated and will be removed from pandas in a future version. Use pandas.concat instead.\n",
      "  output_df = output_df.append({\n"
     ]
    },
    {
     "name": "stdout",
     "output_type": "stream",
     "text": [
      "Results for article 40\n",
      "Positive Score: 28.000001\n",
      "Negative Score: 13.000001\n",
      "Polarity Score: 0.3658536406900663\n",
      "Subjectivity Score: 0.06560000309504\n"
     ]
    },
    {
     "name": "stderr",
     "output_type": "stream",
     "text": [
      "C:\\Users\\dell\\AppData\\Local\\Temp\\ipykernel_1976\\2233029045.py:29: FutureWarning: The frame.append method is deprecated and will be removed from pandas in a future version. Use pandas.concat instead.\n",
      "  output_df = output_df.append({\n"
     ]
    },
    {
     "name": "stdout",
     "output_type": "stream",
     "text": [
      "Results for article 41\n",
      "Positive Score: 21.000001\n",
      "Negative Score: 21.000001\n",
      "Polarity Score: 0.0\n",
      "Subjectivity Score: 0.06441718088279574\n"
     ]
    },
    {
     "name": "stderr",
     "output_type": "stream",
     "text": [
      "C:\\Users\\dell\\AppData\\Local\\Temp\\ipykernel_1976\\2233029045.py:29: FutureWarning: The frame.append method is deprecated and will be removed from pandas in a future version. Use pandas.concat instead.\n",
      "  output_df = output_df.append({\n"
     ]
    },
    {
     "name": "stdout",
     "output_type": "stream",
     "text": [
      "Results for article 42\n",
      "Positive Score: 38.000001\n",
      "Negative Score: 19.000001\n",
      "Polarity Score: 0.3333333216374273\n",
      "Subjectivity Score: 0.07960894122959644\n",
      "Results for article 43\n",
      "Positive Score: 1.000001\n",
      "Negative Score: 1e-06\n",
      "Polarity Score: 0.9999980000040001\n",
      "Subjectivity Score: 0.10000018999998099\n"
     ]
    },
    {
     "name": "stderr",
     "output_type": "stream",
     "text": [
      "C:\\Users\\dell\\AppData\\Local\\Temp\\ipykernel_1976\\2233029045.py:29: FutureWarning: The frame.append method is deprecated and will be removed from pandas in a future version. Use pandas.concat instead.\n",
      "  output_df = output_df.append({\n",
      "C:\\Users\\dell\\AppData\\Local\\Temp\\ipykernel_1976\\2233029045.py:29: FutureWarning: The frame.append method is deprecated and will be removed from pandas in a future version. Use pandas.concat instead.\n",
      "  output_df = output_df.append({\n",
      "C:\\Users\\dell\\AppData\\Local\\Temp\\ipykernel_1976\\2233029045.py:29: FutureWarning: The frame.append method is deprecated and will be removed from pandas in a future version. Use pandas.concat instead.\n",
      "  output_df = output_df.append({\n"
     ]
    },
    {
     "name": "stdout",
     "output_type": "stream",
     "text": [
      "Results for article 44\n",
      "Positive Score: 22.000001\n",
      "Negative Score: 1e-06\n",
      "Polarity Score: 0.9999999090909173\n",
      "Subjectivity Score: 0.07885305348081344\n",
      "Results for article 45\n",
      "Positive Score: 48.000001\n",
      "Negative Score: 28.000001\n",
      "Polarity Score: 0.2631578878116345\n",
      "Subjectivity Score: 0.09743589987508218\n"
     ]
    },
    {
     "name": "stderr",
     "output_type": "stream",
     "text": [
      "C:\\Users\\dell\\AppData\\Local\\Temp\\ipykernel_1976\\2233029045.py:29: FutureWarning: The frame.append method is deprecated and will be removed from pandas in a future version. Use pandas.concat instead.\n",
      "  output_df = output_df.append({\n"
     ]
    },
    {
     "name": "stdout",
     "output_type": "stream",
     "text": [
      "Results for article 46\n",
      "Positive Score: 22.000001\n",
      "Negative Score: 1e-06\n",
      "Polarity Score: 0.9999999090909173\n",
      "Subjectivity Score: 0.04517454200169499\n",
      "Results for article 47\n"
     ]
    },
    {
     "name": "stderr",
     "output_type": "stream",
     "text": [
      "C:\\Users\\dell\\AppData\\Local\\Temp\\ipykernel_1976\\2233029045.py:29: FutureWarning: The frame.append method is deprecated and will be removed from pandas in a future version. Use pandas.concat instead.\n",
      "  output_df = output_df.append({\n"
     ]
    },
    {
     "name": "stdout",
     "output_type": "stream",
     "text": [
      "Positive Score: 13.000001\n",
      "Negative Score: 6.000001\n",
      "Polarity Score: 0.3684210138504196\n",
      "Subjectivity Score: 0.049479171746147986\n",
      "Results for article 48\n",
      "Positive Score: 3.000001\n",
      "Negative Score: 4.000001\n",
      "Polarity Score: -0.142857102040828\n",
      "Subjectivity Score: 0.043750012226562426\n",
      "Results for article 49\n",
      "Positive Score: 1e-06\n",
      "Negative Score: 1e-06\n",
      "Polarity Score: 0.0\n",
      "Subjectivity Score: 2.85714244897965e-07\n"
     ]
    },
    {
     "name": "stderr",
     "output_type": "stream",
     "text": [
      "C:\\Users\\dell\\AppData\\Local\\Temp\\ipykernel_1976\\2233029045.py:29: FutureWarning: The frame.append method is deprecated and will be removed from pandas in a future version. Use pandas.concat instead.\n",
      "  output_df = output_df.append({\n",
      "C:\\Users\\dell\\AppData\\Local\\Temp\\ipykernel_1976\\2233029045.py:29: FutureWarning: The frame.append method is deprecated and will be removed from pandas in a future version. Use pandas.concat instead.\n",
      "  output_df = output_df.append({\n",
      "C:\\Users\\dell\\AppData\\Local\\Temp\\ipykernel_1976\\2233029045.py:29: FutureWarning: The frame.append method is deprecated and will be removed from pandas in a future version. Use pandas.concat instead.\n",
      "  output_df = output_df.append({\n"
     ]
    },
    {
     "name": "stdout",
     "output_type": "stream",
     "text": [
      "Results for article 50\n",
      "Positive Score: 20.000001\n",
      "Negative Score: 39.000001\n",
      "Polarity Score: -0.32203388738868177\n",
      "Subjectivity Score: 0.08440629744720128\n"
     ]
    },
    {
     "name": "stderr",
     "output_type": "stream",
     "text": [
      "C:\\Users\\dell\\AppData\\Local\\Temp\\ipykernel_1976\\2233029045.py:29: FutureWarning: The frame.append method is deprecated and will be removed from pandas in a future version. Use pandas.concat instead.\n",
      "  output_df = output_df.append({\n",
      "C:\\Users\\dell\\AppData\\Local\\Temp\\ipykernel_1976\\2233029045.py:29: FutureWarning: The frame.append method is deprecated and will be removed from pandas in a future version. Use pandas.concat instead.\n",
      "  output_df = output_df.append({\n"
     ]
    },
    {
     "name": "stdout",
     "output_type": "stream",
     "text": [
      "Results for article 51\n",
      "Positive Score: 12.000001\n",
      "Negative Score: 8.000001\n",
      "Polarity Score: 0.19999998000000202\n",
      "Subjectivity Score: 0.05524862415677175\n",
      "Results for article 52\n",
      "Positive Score: 21.000001\n",
      "Negative Score: 13.000001\n",
      "Polarity Score: 0.23529410380622923\n",
      "Subjectivity Score: 0.04111245702404782\n"
     ]
    },
    {
     "name": "stderr",
     "output_type": "stream",
     "text": [
      "C:\\Users\\dell\\AppData\\Local\\Temp\\ipykernel_1976\\2233029045.py:29: FutureWarning: The frame.append method is deprecated and will be removed from pandas in a future version. Use pandas.concat instead.\n",
      "  output_df = output_df.append({\n",
      "C:\\Users\\dell\\AppData\\Local\\Temp\\ipykernel_1976\\2233029045.py:29: FutureWarning: The frame.append method is deprecated and will be removed from pandas in a future version. Use pandas.concat instead.\n",
      "  output_df = output_df.append({\n"
     ]
    },
    {
     "name": "stdout",
     "output_type": "stream",
     "text": [
      "Results for article 53\n",
      "Positive Score: 29.000001\n",
      "Negative Score: 3.000001\n",
      "Polarity Score: 0.8124999492187531\n",
      "Subjectivity Score: 0.09495549526719438\n",
      "Results for article 54\n",
      "Positive Score: 5.000001\n",
      "Negative Score: 1.000001\n",
      "Polarity Score: 0.6666664444445185\n",
      "Subjectivity Score: 0.028846163322854987\n"
     ]
    },
    {
     "name": "stderr",
     "output_type": "stream",
     "text": [
      "C:\\Users\\dell\\AppData\\Local\\Temp\\ipykernel_1976\\2233029045.py:29: FutureWarning: The frame.append method is deprecated and will be removed from pandas in a future version. Use pandas.concat instead.\n",
      "  output_df = output_df.append({\n"
     ]
    },
    {
     "name": "stdout",
     "output_type": "stream",
     "text": [
      "Results for article 55\n",
      "Positive Score: 21.000001\n",
      "Negative Score: 9.000001\n",
      "Polarity Score: 0.39999997333333515\n",
      "Subjectivity Score: 0.050505053787028534\n"
     ]
    },
    {
     "name": "stderr",
     "output_type": "stream",
     "text": [
      "C:\\Users\\dell\\AppData\\Local\\Temp\\ipykernel_1976\\2233029045.py:29: FutureWarning: The frame.append method is deprecated and will be removed from pandas in a future version. Use pandas.concat instead.\n",
      "  output_df = output_df.append({\n"
     ]
    },
    {
     "name": "stdout",
     "output_type": "stream",
     "text": [
      "Results for article 56\n",
      "Positive Score: 19.000001\n",
      "Negative Score: 7.000001\n",
      "Polarity Score: 0.46153842603550566\n",
      "Subjectivity Score: 0.07242340369798496\n",
      "Results for article 57\n",
      "Positive Score: 13.000001\n",
      "Negative Score: 9.000001\n",
      "Polarity Score: 0.1818181652892577\n",
      "Subjectivity Score: 0.13173653813331412\n"
     ]
    },
    {
     "name": "stderr",
     "output_type": "stream",
     "text": [
      "C:\\Users\\dell\\AppData\\Local\\Temp\\ipykernel_1976\\2233029045.py:29: FutureWarning: The frame.append method is deprecated and will be removed from pandas in a future version. Use pandas.concat instead.\n",
      "  output_df = output_df.append({\n",
      "C:\\Users\\dell\\AppData\\Local\\Temp\\ipykernel_1976\\2233029045.py:29: FutureWarning: The frame.append method is deprecated and will be removed from pandas in a future version. Use pandas.concat instead.\n",
      "  output_df = output_df.append({\n"
     ]
    },
    {
     "name": "stdout",
     "output_type": "stream",
     "text": [
      "Results for article 58\n",
      "Positive Score: 5.000001\n",
      "Negative Score: 1e-06\n",
      "Polarity Score: 0.99999960000016\n",
      "Subjectivity Score: 0.05050507019691849\n"
     ]
    },
    {
     "name": "stderr",
     "output_type": "stream",
     "text": [
      "C:\\Users\\dell\\AppData\\Local\\Temp\\ipykernel_1976\\2233029045.py:29: FutureWarning: The frame.append method is deprecated and will be removed from pandas in a future version. Use pandas.concat instead.\n",
      "  output_df = output_df.append({\n"
     ]
    },
    {
     "name": "stdout",
     "output_type": "stream",
     "text": [
      "Results for article 59\n",
      "Positive Score: 19.000001\n",
      "Negative Score: 23.000001\n",
      "Polarity Score: -0.09523809070294806\n",
      "Subjectivity Score: 0.11475410351160081\n",
      "Results for article 60\n",
      "Positive Score: 8.000001\n",
      "Negative Score: 2.000001\n",
      "Polarity Score: 0.599999880000024\n",
      "Subjectivity Score: 0.11235957177124076\n"
     ]
    },
    {
     "name": "stderr",
     "output_type": "stream",
     "text": [
      "C:\\Users\\dell\\AppData\\Local\\Temp\\ipykernel_1976\\2233029045.py:29: FutureWarning: The frame.append method is deprecated and will be removed from pandas in a future version. Use pandas.concat instead.\n",
      "  output_df = output_df.append({\n",
      "C:\\Users\\dell\\AppData\\Local\\Temp\\ipykernel_1976\\2233029045.py:29: FutureWarning: The frame.append method is deprecated and will be removed from pandas in a future version. Use pandas.concat instead.\n",
      "  output_df = output_df.append({\n"
     ]
    },
    {
     "name": "stdout",
     "output_type": "stream",
     "text": [
      "Results for article 61\n",
      "Positive Score: 27.000001\n",
      "Negative Score: 17.000001\n",
      "Polarity Score: 0.2272727169421492\n",
      "Subjectivity Score: 0.06907378639077899\n"
     ]
    },
    {
     "name": "stderr",
     "output_type": "stream",
     "text": [
      "C:\\Users\\dell\\AppData\\Local\\Temp\\ipykernel_1976\\2233029045.py:29: FutureWarning: The frame.append method is deprecated and will be removed from pandas in a future version. Use pandas.concat instead.\n",
      "  output_df = output_df.append({\n"
     ]
    },
    {
     "name": "stdout",
     "output_type": "stream",
     "text": [
      "Results for article 62\n",
      "Positive Score: 9.000001\n",
      "Negative Score: 12.000001\n",
      "Polarity Score: -0.142857129251702\n",
      "Subjectivity Score: 0.08045977746950277\n"
     ]
    },
    {
     "name": "stderr",
     "output_type": "stream",
     "text": [
      "C:\\Users\\dell\\AppData\\Local\\Temp\\ipykernel_1976\\2233029045.py:29: FutureWarning: The frame.append method is deprecated and will be removed from pandas in a future version. Use pandas.concat instead.\n",
      "  output_df = output_df.append({\n"
     ]
    },
    {
     "name": "stdout",
     "output_type": "stream",
     "text": [
      "Results for article 63\n",
      "Positive Score: 21.000001\n",
      "Negative Score: 32.000001\n",
      "Polarity Score: -0.20754716197935233\n",
      "Subjectivity Score: 0.10995851014531428\n"
     ]
    },
    {
     "name": "stderr",
     "output_type": "stream",
     "text": [
      "C:\\Users\\dell\\AppData\\Local\\Temp\\ipykernel_1976\\2233029045.py:29: FutureWarning: The frame.append method is deprecated and will be removed from pandas in a future version. Use pandas.concat instead.\n",
      "  output_df = output_df.append({\n"
     ]
    },
    {
     "name": "stdout",
     "output_type": "stream",
     "text": [
      "Results for article 64\n",
      "Positive Score: 19.000001\n",
      "Negative Score: 37.000001\n",
      "Polarity Score: -0.32142855994897995\n",
      "Subjectivity Score: 0.06429391726257873\n"
     ]
    },
    {
     "name": "stderr",
     "output_type": "stream",
     "text": [
      "C:\\Users\\dell\\AppData\\Local\\Temp\\ipykernel_1976\\2233029045.py:29: FutureWarning: The frame.append method is deprecated and will be removed from pandas in a future version. Use pandas.concat instead.\n",
      "  output_df = output_df.append({\n"
     ]
    },
    {
     "name": "stdout",
     "output_type": "stream",
     "text": [
      "Results for article 65\n",
      "Positive Score: 30.000001\n",
      "Negative Score: 21.000001\n",
      "Polarity Score: 0.17647058131487917\n",
      "Subjectivity Score: 0.06746032001658687\n"
     ]
    },
    {
     "name": "stderr",
     "output_type": "stream",
     "text": [
      "C:\\Users\\dell\\AppData\\Local\\Temp\\ipykernel_1976\\2233029045.py:29: FutureWarning: The frame.append method is deprecated and will be removed from pandas in a future version. Use pandas.concat instead.\n",
      "  output_df = output_df.append({\n"
     ]
    },
    {
     "name": "stdout",
     "output_type": "stream",
     "text": [
      "Results for article 66\n",
      "Positive Score: 28.000001\n",
      "Negative Score: 24.000001\n",
      "Polarity Score: 0.07692307396449716\n",
      "Subjectivity Score: 0.0725244099406912\n"
     ]
    },
    {
     "name": "stderr",
     "output_type": "stream",
     "text": [
      "C:\\Users\\dell\\AppData\\Local\\Temp\\ipykernel_1976\\2233029045.py:29: FutureWarning: The frame.append method is deprecated and will be removed from pandas in a future version. Use pandas.concat instead.\n",
      "  output_df = output_df.append({\n"
     ]
    },
    {
     "name": "stdout",
     "output_type": "stream",
     "text": [
      "Results for article 67\n",
      "Positive Score: 18.000001\n",
      "Negative Score: 7.000001\n",
      "Polarity Score: 0.4399999648000028\n",
      "Subjectivity Score: 0.0706214743767755\n"
     ]
    },
    {
     "name": "stderr",
     "output_type": "stream",
     "text": [
      "C:\\Users\\dell\\AppData\\Local\\Temp\\ipykernel_1976\\2233029045.py:29: FutureWarning: The frame.append method is deprecated and will be removed from pandas in a future version. Use pandas.concat instead.\n",
      "  output_df = output_df.append({\n"
     ]
    },
    {
     "name": "stdout",
     "output_type": "stream",
     "text": [
      "Results for article 68\n",
      "Positive Score: 26.000001\n",
      "Negative Score: 7.000001\n",
      "Polarity Score: 0.5757575408631793\n",
      "Subjectivity Score: 0.06145251757643852\n",
      "Results for article 69\n"
     ]
    },
    {
     "name": "stderr",
     "output_type": "stream",
     "text": [
      "C:\\Users\\dell\\AppData\\Local\\Temp\\ipykernel_1976\\2233029045.py:29: FutureWarning: The frame.append method is deprecated and will be removed from pandas in a future version. Use pandas.concat instead.\n",
      "  output_df = output_df.append({\n",
      "C:\\Users\\dell\\AppData\\Local\\Temp\\ipykernel_1976\\2233029045.py:29: FutureWarning: The frame.append method is deprecated and will be removed from pandas in a future version. Use pandas.concat instead.\n",
      "  output_df = output_df.append({\n"
     ]
    },
    {
     "name": "stdout",
     "output_type": "stream",
     "text": [
      "Positive Score: 20.000001\n",
      "Negative Score: 5.000001\n",
      "Polarity Score: 0.5999999520000038\n",
      "Subjectivity Score: 0.129533688448012\n",
      "Results for article 70\n",
      "Positive Score: 25.000001\n",
      "Negative Score: 13.000001\n",
      "Polarity Score: 0.3157894570637128\n",
      "Subjectivity Score: 0.04589372216679503\n"
     ]
    },
    {
     "name": "stderr",
     "output_type": "stream",
     "text": [
      "C:\\Users\\dell\\AppData\\Local\\Temp\\ipykernel_1976\\2233029045.py:29: FutureWarning: The frame.append method is deprecated and will be removed from pandas in a future version. Use pandas.concat instead.\n",
      "  output_df = output_df.append({\n"
     ]
    },
    {
     "name": "stdout",
     "output_type": "stream",
     "text": [
      "Results for article 71\n",
      "Positive Score: 18.000001\n",
      "Negative Score: 48.000001\n",
      "Polarity Score: -0.4545454407713503\n",
      "Subjectivity Score: 0.1563981086341277\n"
     ]
    },
    {
     "name": "stderr",
     "output_type": "stream",
     "text": [
      "C:\\Users\\dell\\AppData\\Local\\Temp\\ipykernel_1976\\2233029045.py:29: FutureWarning: The frame.append method is deprecated and will be removed from pandas in a future version. Use pandas.concat instead.\n",
      "  output_df = output_df.append({\n"
     ]
    },
    {
     "name": "stdout",
     "output_type": "stream",
     "text": [
      "Results for article 72\n",
      "Positive Score: 22.000001\n",
      "Negative Score: 17.000001\n",
      "Polarity Score: 0.12820512163050657\n",
      "Subjectivity Score: 0.07528957900523248\n"
     ]
    },
    {
     "name": "stderr",
     "output_type": "stream",
     "text": [
      "C:\\Users\\dell\\AppData\\Local\\Temp\\ipykernel_1976\\2233029045.py:29: FutureWarning: The frame.append method is deprecated and will be removed from pandas in a future version. Use pandas.concat instead.\n",
      "  output_df = output_df.append({\n"
     ]
    },
    {
     "name": "stdout",
     "output_type": "stream",
     "text": [
      "Results for article 73\n",
      "Positive Score: 15.000001\n",
      "Negative Score: 23.000001\n",
      "Polarity Score: -0.21052630470914188\n",
      "Subjectivity Score: 0.05946792165967462\n"
     ]
    },
    {
     "name": "stderr",
     "output_type": "stream",
     "text": [
      "C:\\Users\\dell\\AppData\\Local\\Temp\\ipykernel_1976\\2233029045.py:29: FutureWarning: The frame.append method is deprecated and will be removed from pandas in a future version. Use pandas.concat instead.\n",
      "  output_df = output_df.append({\n"
     ]
    },
    {
     "name": "stdout",
     "output_type": "stream",
     "text": [
      "Results for article 74\n",
      "Positive Score: 20.000001\n",
      "Negative Score: 21.000001\n",
      "Polarity Score: -0.024390242712671085\n",
      "Subjectivity Score: 0.05563093886617241\n"
     ]
    },
    {
     "name": "stderr",
     "output_type": "stream",
     "text": [
      "C:\\Users\\dell\\AppData\\Local\\Temp\\ipykernel_1976\\2233029045.py:29: FutureWarning: The frame.append method is deprecated and will be removed from pandas in a future version. Use pandas.concat instead.\n",
      "  output_df = output_df.append({\n"
     ]
    },
    {
     "name": "stdout",
     "output_type": "stream",
     "text": [
      "Results for article 75\n",
      "Positive Score: 18.000001\n",
      "Negative Score: 54.000001\n",
      "Polarity Score: -0.4999999861111115\n",
      "Subjectivity Score: 0.16035635153595465\n"
     ]
    },
    {
     "name": "stderr",
     "output_type": "stream",
     "text": [
      "C:\\Users\\dell\\AppData\\Local\\Temp\\ipykernel_1976\\2233029045.py:29: FutureWarning: The frame.append method is deprecated and will be removed from pandas in a future version. Use pandas.concat instead.\n",
      "  output_df = output_df.append({\n"
     ]
    },
    {
     "name": "stdout",
     "output_type": "stream",
     "text": [
      "Results for article 76\n",
      "Positive Score: 27.000001\n",
      "Negative Score: 25.000001\n",
      "Polarity Score: 0.03846153698224858\n",
      "Subjectivity Score: 0.07123287935447552\n"
     ]
    },
    {
     "name": "stderr",
     "output_type": "stream",
     "text": [
      "C:\\Users\\dell\\AppData\\Local\\Temp\\ipykernel_1976\\2233029045.py:29: FutureWarning: The frame.append method is deprecated and will be removed from pandas in a future version. Use pandas.concat instead.\n",
      "  output_df = output_df.append({\n"
     ]
    },
    {
     "name": "stdout",
     "output_type": "stream",
     "text": [
      "Results for article 77\n",
      "Positive Score: 10.000001\n",
      "Negative Score: 10.000001\n",
      "Polarity Score: 0.0\n",
      "Subjectivity Score: 0.0508905902012962\n"
     ]
    },
    {
     "name": "stderr",
     "output_type": "stream",
     "text": [
      "C:\\Users\\dell\\AppData\\Local\\Temp\\ipykernel_1976\\2233029045.py:29: FutureWarning: The frame.append method is deprecated and will be removed from pandas in a future version. Use pandas.concat instead.\n",
      "  output_df = output_df.append({\n"
     ]
    },
    {
     "name": "stdout",
     "output_type": "stream",
     "text": [
      "Results for article 78\n",
      "Positive Score: 19.000001\n",
      "Negative Score: 22.000001\n",
      "Polarity Score: -0.07317072813801326\n",
      "Subjectivity Score: 0.06416275733307863\n"
     ]
    },
    {
     "name": "stderr",
     "output_type": "stream",
     "text": [
      "C:\\Users\\dell\\AppData\\Local\\Temp\\ipykernel_1976\\2233029045.py:29: FutureWarning: The frame.append method is deprecated and will be removed from pandas in a future version. Use pandas.concat instead.\n",
      "  output_df = output_df.append({\n"
     ]
    },
    {
     "name": "stdout",
     "output_type": "stream",
     "text": [
      "Results for article 79\n",
      "Positive Score: 22.000001\n",
      "Negative Score: 39.000001\n",
      "Polarity Score: -0.2786885154528355\n",
      "Subjectivity Score: 0.07270560420416494\n"
     ]
    },
    {
     "name": "stderr",
     "output_type": "stream",
     "text": [
      "C:\\Users\\dell\\AppData\\Local\\Temp\\ipykernel_1976\\2233029045.py:29: FutureWarning: The frame.append method is deprecated and will be removed from pandas in a future version. Use pandas.concat instead.\n",
      "  output_df = output_df.append({\n"
     ]
    },
    {
     "name": "stdout",
     "output_type": "stream",
     "text": [
      "Results for article 80\n",
      "Positive Score: 19.000001\n",
      "Negative Score: 8.000001\n",
      "Polarity Score: 0.4074073772290832\n",
      "Subjectivity Score: 0.013132296686219702\n"
     ]
    },
    {
     "name": "stderr",
     "output_type": "stream",
     "text": [
      "C:\\Users\\dell\\AppData\\Local\\Temp\\ipykernel_1976\\2233029045.py:29: FutureWarning: The frame.append method is deprecated and will be removed from pandas in a future version. Use pandas.concat instead.\n",
      "  output_df = output_df.append({\n"
     ]
    },
    {
     "name": "stdout",
     "output_type": "stream",
     "text": [
      "Results for article 81\n",
      "Positive Score: 30.000001\n",
      "Negative Score: 35.000001\n",
      "Polarity Score: -0.07692307455621304\n",
      "Subjectivity Score: 0.0776583057614596\n"
     ]
    },
    {
     "name": "stderr",
     "output_type": "stream",
     "text": [
      "C:\\Users\\dell\\AppData\\Local\\Temp\\ipykernel_1976\\2233029045.py:29: FutureWarning: The frame.append method is deprecated and will be removed from pandas in a future version. Use pandas.concat instead.\n",
      "  output_df = output_df.append({\n"
     ]
    },
    {
     "name": "stdout",
     "output_type": "stream",
     "text": [
      "Results for article 82\n",
      "Positive Score: 21.000001\n",
      "Negative Score: 40.000001\n",
      "Polarity Score: -0.31147539962375737\n",
      "Subjectivity Score: 0.07236061913124481\n",
      "Results for article 83\n",
      "Positive Score: 1e-06\n",
      "Negative Score: 1e-06\n",
      "Polarity Score: 0.0\n",
      "Subjectivity Score: 2.499999687500039e-07\n",
      "Results for article 84\n",
      "Positive Score: 1.000001\n",
      "Negative Score: 1e-06\n",
      "Polarity Score: 0.9999980000040001\n",
      "Subjectivity Score: 0.09090926446279413\n"
     ]
    },
    {
     "name": "stderr",
     "output_type": "stream",
     "text": [
      "C:\\Users\\dell\\AppData\\Local\\Temp\\ipykernel_1976\\2233029045.py:29: FutureWarning: The frame.append method is deprecated and will be removed from pandas in a future version. Use pandas.concat instead.\n",
      "  output_df = output_df.append({\n",
      "C:\\Users\\dell\\AppData\\Local\\Temp\\ipykernel_1976\\2233029045.py:29: FutureWarning: The frame.append method is deprecated and will be removed from pandas in a future version. Use pandas.concat instead.\n",
      "  output_df = output_df.append({\n",
      "C:\\Users\\dell\\AppData\\Local\\Temp\\ipykernel_1976\\2233029045.py:29: FutureWarning: The frame.append method is deprecated and will be removed from pandas in a future version. Use pandas.concat instead.\n",
      "  output_df = output_df.append({\n"
     ]
    },
    {
     "name": "stdout",
     "output_type": "stream",
     "text": [
      "Results for article 85\n",
      "Positive Score: 19.000001\n",
      "Negative Score: 30.000001\n",
      "Polarity Score: -0.2244897867555189\n",
      "Subjectivity Score: 0.06684857016801014\n"
     ]
    },
    {
     "name": "stderr",
     "output_type": "stream",
     "text": [
      "C:\\Users\\dell\\AppData\\Local\\Temp\\ipykernel_1976\\2233029045.py:29: FutureWarning: The frame.append method is deprecated and will be removed from pandas in a future version. Use pandas.concat instead.\n",
      "  output_df = output_df.append({\n"
     ]
    },
    {
     "name": "stdout",
     "output_type": "stream",
     "text": [
      "Results for article 86\n",
      "Positive Score: 38.000001\n",
      "Negative Score: 14.000001\n",
      "Polarity Score: 0.461538443786983\n",
      "Subjectivity Score: 0.05949656972597646\n"
     ]
    },
    {
     "name": "stderr",
     "output_type": "stream",
     "text": [
      "C:\\Users\\dell\\AppData\\Local\\Temp\\ipykernel_1976\\2233029045.py:29: FutureWarning: The frame.append method is deprecated and will be removed from pandas in a future version. Use pandas.concat instead.\n",
      "  output_df = output_df.append({\n"
     ]
    },
    {
     "name": "stdout",
     "output_type": "stream",
     "text": [
      "Results for article 87\n",
      "Positive Score: 15.000001\n",
      "Negative Score: 23.000001\n",
      "Polarity Score: -0.21052630470914188\n",
      "Subjectivity Score: 0.07076350452371788\n"
     ]
    },
    {
     "name": "stderr",
     "output_type": "stream",
     "text": [
      "C:\\Users\\dell\\AppData\\Local\\Temp\\ipykernel_1976\\2233029045.py:29: FutureWarning: The frame.append method is deprecated and will be removed from pandas in a future version. Use pandas.concat instead.\n",
      "  output_df = output_df.append({\n"
     ]
    },
    {
     "name": "stdout",
     "output_type": "stream",
     "text": [
      "Results for article 88\n",
      "Positive Score: 15.000001\n",
      "Negative Score: 26.000001\n",
      "Polarity Score: -0.268292669839382\n",
      "Subjectivity Score: 0.04108216629150084\n"
     ]
    },
    {
     "name": "stderr",
     "output_type": "stream",
     "text": [
      "C:\\Users\\dell\\AppData\\Local\\Temp\\ipykernel_1976\\2233029045.py:29: FutureWarning: The frame.append method is deprecated and will be removed from pandas in a future version. Use pandas.concat instead.\n",
      "  output_df = output_df.append({\n"
     ]
    },
    {
     "name": "stdout",
     "output_type": "stream",
     "text": [
      "Results for article 89\n",
      "Positive Score: 16.000001\n",
      "Negative Score: 28.000001\n",
      "Polarity Score: -0.27272726033057904\n",
      "Subjectivity Score: 0.090163938339828\n"
     ]
    },
    {
     "name": "stderr",
     "output_type": "stream",
     "text": [
      "C:\\Users\\dell\\AppData\\Local\\Temp\\ipykernel_1976\\2233029045.py:29: FutureWarning: The frame.append method is deprecated and will be removed from pandas in a future version. Use pandas.concat instead.\n",
      "  output_df = output_df.append({\n"
     ]
    },
    {
     "name": "stdout",
     "output_type": "stream",
     "text": [
      "Results for article 90\n",
      "Positive Score: 30.000001\n",
      "Negative Score: 26.000001\n",
      "Polarity Score: 0.07142856887755111\n",
      "Subjectivity Score: 0.10566038093271626\n"
     ]
    },
    {
     "name": "stderr",
     "output_type": "stream",
     "text": [
      "C:\\Users\\dell\\AppData\\Local\\Temp\\ipykernel_1976\\2233029045.py:29: FutureWarning: The frame.append method is deprecated and will be removed from pandas in a future version. Use pandas.concat instead.\n",
      "  output_df = output_df.append({\n"
     ]
    },
    {
     "name": "stdout",
     "output_type": "stream",
     "text": [
      "Results for article 91\n",
      "Positive Score: 17.000001\n",
      "Negative Score: 19.000001\n",
      "Polarity Score: -0.055555552469135974\n",
      "Subjectivity Score: 0.072000003856\n",
      "Results for article 92\n",
      "Positive Score: 1.000001\n",
      "Negative Score: 1e-06\n",
      "Polarity Score: 0.9999980000040001\n",
      "Subjectivity Score: 0.10000018999998099\n",
      "Results for article 93\n",
      "Positive Score: 4.000001\n",
      "Negative Score: 3.000001\n",
      "Polarity Score: 0.142857102040828\n",
      "Subjectivity Score: 0.0786517069814415\n"
     ]
    },
    {
     "name": "stderr",
     "output_type": "stream",
     "text": [
      "C:\\Users\\dell\\AppData\\Local\\Temp\\ipykernel_1976\\2233029045.py:29: FutureWarning: The frame.append method is deprecated and will be removed from pandas in a future version. Use pandas.concat instead.\n",
      "  output_df = output_df.append({\n",
      "C:\\Users\\dell\\AppData\\Local\\Temp\\ipykernel_1976\\2233029045.py:29: FutureWarning: The frame.append method is deprecated and will be removed from pandas in a future version. Use pandas.concat instead.\n",
      "  output_df = output_df.append({\n",
      "C:\\Users\\dell\\AppData\\Local\\Temp\\ipykernel_1976\\2233029045.py:29: FutureWarning: The frame.append method is deprecated and will be removed from pandas in a future version. Use pandas.concat instead.\n",
      "  output_df = output_df.append({\n"
     ]
    },
    {
     "name": "stdout",
     "output_type": "stream",
     "text": [
      "Results for article 94\n",
      "Positive Score: 29.000001\n",
      "Negative Score: 43.000001\n",
      "Polarity Score: -0.19444443904321\n",
      "Subjectivity Score: 0.1265377888813044\n"
     ]
    },
    {
     "name": "stderr",
     "output_type": "stream",
     "text": [
      "C:\\Users\\dell\\AppData\\Local\\Temp\\ipykernel_1976\\2233029045.py:29: FutureWarning: The frame.append method is deprecated and will be removed from pandas in a future version. Use pandas.concat instead.\n",
      "  output_df = output_df.append({\n"
     ]
    },
    {
     "name": "stdout",
     "output_type": "stream",
     "text": [
      "Results for article 95\n",
      "Positive Score: 6.000001\n",
      "Negative Score: 23.000001\n",
      "Polarity Score: -0.5862068561236651\n",
      "Subjectivity Score: 0.08333333884099615\n"
     ]
    },
    {
     "name": "stderr",
     "output_type": "stream",
     "text": [
      "C:\\Users\\dell\\AppData\\Local\\Temp\\ipykernel_1976\\2233029045.py:29: FutureWarning: The frame.append method is deprecated and will be removed from pandas in a future version. Use pandas.concat instead.\n",
      "  output_df = output_df.append({\n"
     ]
    },
    {
     "name": "stdout",
     "output_type": "stream",
     "text": [
      "Results for article 96\n",
      "Positive Score: 19.000001\n",
      "Negative Score: 38.000001\n",
      "Polarity Score: -0.3333333216374273\n",
      "Subjectivity Score: 0.09710392147001035\n"
     ]
    },
    {
     "name": "stderr",
     "output_type": "stream",
     "text": [
      "C:\\Users\\dell\\AppData\\Local\\Temp\\ipykernel_1976\\2233029045.py:29: FutureWarning: The frame.append method is deprecated and will be removed from pandas in a future version. Use pandas.concat instead.\n",
      "  output_df = output_df.append({\n"
     ]
    },
    {
     "name": "stdout",
     "output_type": "stream",
     "text": [
      "Results for article 97\n",
      "Positive Score: 14.000001\n",
      "Negative Score: 27.000001\n",
      "Polarity Score: -0.3170731552647242\n",
      "Subjectivity Score: 0.09382151465944734\n"
     ]
    },
    {
     "name": "stderr",
     "output_type": "stream",
     "text": [
      "C:\\Users\\dell\\AppData\\Local\\Temp\\ipykernel_1976\\2233029045.py:29: FutureWarning: The frame.append method is deprecated and will be removed from pandas in a future version. Use pandas.concat instead.\n",
      "  output_df = output_df.append({\n",
      "C:\\Users\\dell\\AppData\\Local\\Temp\\ipykernel_1976\\2233029045.py:29: FutureWarning: The frame.append method is deprecated and will be removed from pandas in a future version. Use pandas.concat instead.\n",
      "  output_df = output_df.append({\n"
     ]
    },
    {
     "name": "stdout",
     "output_type": "stream",
     "text": [
      "Results for article 98\n",
      "Positive Score: 5.000001\n",
      "Negative Score: 3.000001\n",
      "Polarity Score: 0.24999993750001562\n",
      "Subjectivity Score: 0.032520333201136856\n",
      "Results for article 99\n",
      "Positive Score: 1e-06\n",
      "Negative Score: 1e-06\n",
      "Polarity Score: 0.0\n",
      "Subjectivity Score: 2.2222219753086696e-07\n",
      "Results for article 100\n",
      "Positive Score: 1.000001\n",
      "Negative Score: 1e-06\n",
      "Polarity Score: 0.9999980000040001\n",
      "Subjectivity Score: 0.11111132098763099\n"
     ]
    },
    {
     "name": "stderr",
     "output_type": "stream",
     "text": [
      "C:\\Users\\dell\\AppData\\Local\\Temp\\ipykernel_1976\\2233029045.py:29: FutureWarning: The frame.append method is deprecated and will be removed from pandas in a future version. Use pandas.concat instead.\n",
      "  output_df = output_df.append({\n",
      "C:\\Users\\dell\\AppData\\Local\\Temp\\ipykernel_1976\\2233029045.py:29: FutureWarning: The frame.append method is deprecated and will be removed from pandas in a future version. Use pandas.concat instead.\n",
      "  output_df = output_df.append({\n"
     ]
    }
   ],
   "source": [
    "# Loop through file names from blackassign0001 to blackassign0100\n",
    "for i in range(1, 101):\n",
    "    file_path = f'blackassign{str(i).zfill(4)}_output.txt'\n",
    "    \n",
    "    final_words = process_text(file_path, stop_words)\n",
    "    print(\"Results for article\", i)\n",
    "    \n",
    "    positive_score, negative_score, polarity_score, subjectivity_score = neg_pos(file_path, final_words)\n",
    "\n",
    "    with open(file_path, encoding='utf-8') as file:\n",
    "        text = file.read()\n",
    "\n",
    "    (\n",
    "        avg_sentence_length,\n",
    "        percentage_complex_words,\n",
    "        fog_index,\n",
    "        avg_words_per_sentence,\n",
    "        num_complex_words,\n",
    "        num_words,\n",
    "        avg_syllables_per_word,\n",
    "        pronoun_count,\n",
    "        avg_word_length\n",
    "    ) = calculate_fog_index(text)\n",
    "    \n",
    "    # Get the URL for the current article from the Input.xlsx file\n",
    "    current_url = input_df.iloc[i - 1]['URL']\n",
    "    \n",
    "    # Append the results to the output DataFrame\n",
    "    output_df = output_df.append({\n",
    "        'URL_ID': f'blackassign{str(i).zfill(4)}',\n",
    "        'URL': current_url,\n",
    "        'POSITIVE SCORE': positive_score,\n",
    "        'NEGATIVE SCORE': negative_score,\n",
    "        'POLARITY SCORE': polarity_score,\n",
    "        'SUBJECTIVITY SCORE': subjectivity_score,\n",
    "        'AVG SENTENCE LENGTH': avg_sentence_length,\n",
    "        'PERCENTAGE OF COMPLEX WORDS': percentage_complex_words,\n",
    "        'FOG INDEX': fog_index,\n",
    "        'AVG NUMBER OF WORDS PER SENTENCE': avg_words_per_sentence,\n",
    "        'COMPLEX WORD COUNT': num_complex_words,\n",
    "        'WORD COUNT': num_words,\n",
    "        'SYLLABLE PER WORD': avg_syllables_per_word,\n",
    "        'PERSONAL PRONOUNS': pronoun_count,\n",
    "        'AVG WORD LENGTH': avg_word_length\n",
    "    }, ignore_index=True)\n",
    "\n",
    "# Save the DataFrame to an Excel file\n",
    "output_df = output_df.sort_values(by='URL_ID')\n",
    "output_df.to_excel('output.xlsx', index=False)\n"
   ]
  },
  {
   "cell_type": "code",
   "execution_count": null,
   "id": "9c0ac3e6",
   "metadata": {},
   "outputs": [],
   "source": []
  }
 ],
 "metadata": {
  "kernelspec": {
   "display_name": "Python 3 (ipykernel)",
   "language": "python",
   "name": "python3"
  },
  "language_info": {
   "codemirror_mode": {
    "name": "ipython",
    "version": 3
   },
   "file_extension": ".py",
   "mimetype": "text/x-python",
   "name": "python",
   "nbconvert_exporter": "python",
   "pygments_lexer": "ipython3",
   "version": "3.11.4"
  }
 },
 "nbformat": 4,
 "nbformat_minor": 5
}
